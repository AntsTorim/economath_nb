{
 "cells": [
  {
   "cell_type": "markdown",
   "metadata": {},
   "source": [
    "# Scientific Python\n",
    "\n",
    "__[Scientific Python](https://www.scipy.org/)__ (SciPy) is a large set of Python packages used for mathematics, scientific computing, data mining and machine learning beyond standard Python packages like math. As these packages do not come with standard Python we can install them one-by-one or we can install a special Python distribution which already has all the packages. This is much easier. One such free distribution is __[Anaconda](https://www.anaconda.com/download/)__ which contains over 1000 data science packages.\n",
    "\n",
    "One important part of Scientific Python is Jupyter Notebook style of programming where we have cells that contain descriptive text in special format called Markdown and cells which contain code in Python or in another programming language. We can execute code cells (In-cells) one-by-one or all sequentially (later cells may depend on variables introduced in previous cells). Results are shown below the cells (Out-cells).  This document you are reading is a Jupyter Notebook. It contains some mathematical examples based on the book _Majandusmatemaatika alused (Foundations of  Mathematical Economics)_ by Aasma, Kallam and Levin. (While Python can make solving these problems much easier for learning it is better to solve them first by pen and paper. Mathematics courses cannot be replaced by Python.) \n",
    "\n",
    "See also __[A Gallery of Interesting Jupyter Notebooks](https://github.com/jupyter/jupyter/wiki/A-gallery-of-interesting-Jupyter-Notebooks)__.\n",
    "\n"
   ]
  },
  {
   "cell_type": "markdown",
   "metadata": {},
   "source": [
    "Lets import some useful SciPy packages:"
   ]
  },
  {
   "cell_type": "code",
   "execution_count": 1,
   "metadata": {
    "collapsed": true
   },
   "outputs": [],
   "source": [
    "import numpy as np\n",
    "from numpy import linalg\n",
    "import sympy"
   ]
  },
  {
   "cell_type": "markdown",
   "metadata": {},
   "source": [
    "# Matrices and systems of linear equations"
   ]
  },
  {
   "cell_type": "markdown",
   "metadata": {},
   "source": [
    "Module __[numpy](http://www.numpy.org/)__ (Numerical Python, oftened shortened as np) has many tools for manipulating matrices (numpy arrays)."
   ]
  },
  {
   "cell_type": "markdown",
   "metadata": {},
   "source": [
    "### Determinants"
   ]
  },
  {
   "cell_type": "markdown",
   "metadata": {},
   "source": [
    "Calculate rank four determinant for the matrix:\n",
    "\n",
    "$\\begin{bmatrix}\n",
    "2 & -1 & 3 & 4 \\\\\n",
    "-1 & 0 & -1 & 2 \\\\\n",
    "3 & 1 & -1 & 0 \\\\ \n",
    "1 & 0 & 2 & -1 \\\\\n",
    "\\end{bmatrix}$"
   ]
  },
  {
   "cell_type": "code",
   "execution_count": 2,
   "metadata": {},
   "outputs": [
    {
     "data": {
      "text/plain": [
       "17.0"
      ]
     },
     "execution_count": 2,
     "metadata": {},
     "output_type": "execute_result"
    }
   ],
   "source": [
    "a = np.array([[2, -1, 3, 4],\n",
    "              [-1, 0, -1, 2], \n",
    "              [3, 1, -1, 0], \n",
    "              [1, 0, 2, -1]])\n",
    "linalg.det(a)"
   ]
  },
  {
   "cell_type": "markdown",
   "metadata": {},
   "source": [
    "### Solving systems of linear equations\n",
    "\n",
    "Solve the system of linear equations:\n",
    "\n",
    "$\\begin{cases} \n",
    "2x_{1} - 8x_{2} + 4x_{3} = 16 \\\\ \n",
    "3x_{1} + 3x_{2} + 5x_{3} = 4 \\\\ \n",
    "2x_{1} - 5x_{2} + 9x_{3} = 22 \\\\ \n",
    "\\end{cases}$"
   ]
  },
  {
   "cell_type": "code",
   "execution_count": 14,
   "metadata": {},
   "outputs": [
    {
     "data": {
      "text/plain": [
       "array([-0.66666667, -1.20512821,  1.92307692])"
      ]
     },
     "execution_count": 14,
     "metadata": {},
     "output_type": "execute_result"
    }
   ],
   "source": [
    "a = np.array([[2, -8, 4], \n",
    "              [3, 3, 5], \n",
    "              [2, -5, 9]])\n",
    "b = np.array([16, 4, 22])\n",
    "linalg.solve(a, b)"
   ]
  },
  {
   "cell_type": "markdown",
   "metadata": {},
   "source": [
    "First element of the output array  is $x_1$, second $x_2$ and third $x_3$."
   ]
  },
  {
   "cell_type": "markdown",
   "metadata": {},
   "source": [
    "\n",
    "\n",
    "Solve the system of linear equations:\n",
    "\n",
    "$\\begin{cases} \n",
    "2x_{1} - 8x_{2} + 4x_{3} = 16 \\\\ \n",
    "3x_{2} + 5x_{3} = 4 \\\\ \n",
    "2x_{1} - 5x_{2} + 9x_{3} = 22 \\\\ \n",
    "\\end{cases}$\n",
    "\n"
   ]
  },
  {
   "cell_type": "code",
   "execution_count": 4,
   "metadata": {},
   "outputs": [
    {
     "ename": "LinAlgError",
     "evalue": "Singular matrix",
     "output_type": "error",
     "traceback": [
      "\u001b[1;31m---------------------------------------------------------------------------\u001b[0m",
      "\u001b[1;31mLinAlgError\u001b[0m                               Traceback (most recent call last)",
      "\u001b[1;32m<ipython-input-4-00a115e73580>\u001b[0m in \u001b[0;36m<module>\u001b[1;34m()\u001b[0m\n\u001b[0;32m      3\u001b[0m               [2, -5, 9]])\n\u001b[0;32m      4\u001b[0m \u001b[0mb\u001b[0m \u001b[1;33m=\u001b[0m \u001b[0mnp\u001b[0m\u001b[1;33m.\u001b[0m\u001b[0marray\u001b[0m\u001b[1;33m(\u001b[0m\u001b[1;33m[\u001b[0m\u001b[1;36m16\u001b[0m\u001b[1;33m,\u001b[0m \u001b[1;36m4\u001b[0m\u001b[1;33m,\u001b[0m \u001b[1;36m22\u001b[0m\u001b[1;33m]\u001b[0m\u001b[1;33m)\u001b[0m\u001b[1;33m\u001b[0m\u001b[0m\n\u001b[1;32m----> 5\u001b[1;33m \u001b[0mlinalg\u001b[0m\u001b[1;33m.\u001b[0m\u001b[0msolve\u001b[0m\u001b[1;33m(\u001b[0m\u001b[0ma\u001b[0m\u001b[1;33m,\u001b[0m \u001b[0mb\u001b[0m\u001b[1;33m)\u001b[0m\u001b[1;33m\u001b[0m\u001b[0m\n\u001b[0m",
      "\u001b[1;32mE:\\ProgramData\\Anaconda3_431\\lib\\site-packages\\numpy\\linalg\\linalg.py\u001b[0m in \u001b[0;36msolve\u001b[1;34m(a, b)\u001b[0m\n\u001b[0;32m    373\u001b[0m     \u001b[0msignature\u001b[0m \u001b[1;33m=\u001b[0m \u001b[1;34m'DD->D'\u001b[0m \u001b[1;32mif\u001b[0m \u001b[0misComplexType\u001b[0m\u001b[1;33m(\u001b[0m\u001b[0mt\u001b[0m\u001b[1;33m)\u001b[0m \u001b[1;32melse\u001b[0m \u001b[1;34m'dd->d'\u001b[0m\u001b[1;33m\u001b[0m\u001b[0m\n\u001b[0;32m    374\u001b[0m     \u001b[0mextobj\u001b[0m \u001b[1;33m=\u001b[0m \u001b[0mget_linalg_error_extobj\u001b[0m\u001b[1;33m(\u001b[0m\u001b[0m_raise_linalgerror_singular\u001b[0m\u001b[1;33m)\u001b[0m\u001b[1;33m\u001b[0m\u001b[0m\n\u001b[1;32m--> 375\u001b[1;33m     \u001b[0mr\u001b[0m \u001b[1;33m=\u001b[0m \u001b[0mgufunc\u001b[0m\u001b[1;33m(\u001b[0m\u001b[0ma\u001b[0m\u001b[1;33m,\u001b[0m \u001b[0mb\u001b[0m\u001b[1;33m,\u001b[0m \u001b[0msignature\u001b[0m\u001b[1;33m=\u001b[0m\u001b[0msignature\u001b[0m\u001b[1;33m,\u001b[0m \u001b[0mextobj\u001b[0m\u001b[1;33m=\u001b[0m\u001b[0mextobj\u001b[0m\u001b[1;33m)\u001b[0m\u001b[1;33m\u001b[0m\u001b[0m\n\u001b[0m\u001b[0;32m    376\u001b[0m \u001b[1;33m\u001b[0m\u001b[0m\n\u001b[0;32m    377\u001b[0m     \u001b[1;32mreturn\u001b[0m \u001b[0mwrap\u001b[0m\u001b[1;33m(\u001b[0m\u001b[0mr\u001b[0m\u001b[1;33m.\u001b[0m\u001b[0mastype\u001b[0m\u001b[1;33m(\u001b[0m\u001b[0mresult_t\u001b[0m\u001b[1;33m,\u001b[0m \u001b[0mcopy\u001b[0m\u001b[1;33m=\u001b[0m\u001b[1;32mFalse\u001b[0m\u001b[1;33m)\u001b[0m\u001b[1;33m)\u001b[0m\u001b[1;33m\u001b[0m\u001b[0m\n",
      "\u001b[1;32mE:\\ProgramData\\Anaconda3_431\\lib\\site-packages\\numpy\\linalg\\linalg.py\u001b[0m in \u001b[0;36m_raise_linalgerror_singular\u001b[1;34m(err, flag)\u001b[0m\n\u001b[0;32m     88\u001b[0m \u001b[1;33m\u001b[0m\u001b[0m\n\u001b[0;32m     89\u001b[0m \u001b[1;32mdef\u001b[0m \u001b[0m_raise_linalgerror_singular\u001b[0m\u001b[1;33m(\u001b[0m\u001b[0merr\u001b[0m\u001b[1;33m,\u001b[0m \u001b[0mflag\u001b[0m\u001b[1;33m)\u001b[0m\u001b[1;33m:\u001b[0m\u001b[1;33m\u001b[0m\u001b[0m\n\u001b[1;32m---> 90\u001b[1;33m     \u001b[1;32mraise\u001b[0m \u001b[0mLinAlgError\u001b[0m\u001b[1;33m(\u001b[0m\u001b[1;34m\"Singular matrix\"\u001b[0m\u001b[1;33m)\u001b[0m\u001b[1;33m\u001b[0m\u001b[0m\n\u001b[0m\u001b[0;32m     91\u001b[0m \u001b[1;33m\u001b[0m\u001b[0m\n\u001b[0;32m     92\u001b[0m \u001b[1;32mdef\u001b[0m \u001b[0m_raise_linalgerror_nonposdef\u001b[0m\u001b[1;33m(\u001b[0m\u001b[0merr\u001b[0m\u001b[1;33m,\u001b[0m \u001b[0mflag\u001b[0m\u001b[1;33m)\u001b[0m\u001b[1;33m:\u001b[0m\u001b[1;33m\u001b[0m\u001b[0m\n",
      "\u001b[1;31mLinAlgError\u001b[0m: Singular matrix"
     ]
    }
   ],
   "source": [
    "a = np.array([[2, -8, 4], \n",
    "              [0, 3, 5], \n",
    "              [2, -5, 9]])\n",
    "b = np.array([16, 4, 22])\n",
    "linalg.solve(a, b)"
   ]
  },
  {
   "cell_type": "markdown",
   "metadata": {},
   "source": [
    "This system is singular and therefore has no solutions."
   ]
  },
  {
   "cell_type": "markdown",
   "metadata": {},
   "source": [
    "### Matrix inverse\n",
    "\n",
    "Find the inverse for the matrix\n",
    "\n",
    "$A=\\begin{bmatrix}\n",
    "1 & -2 & 2 \\\\\n",
    "1 & -3 & 2 \\\\\n",
    "1 & -5 & 5 \n",
    "\\end{bmatrix}$"
   ]
  },
  {
   "cell_type": "code",
   "execution_count": 5,
   "metadata": {},
   "outputs": [
    {
     "data": {
      "text/plain": [
       "array([[ 1.667,  0.   , -0.667],\n",
       "       [ 1.   , -1.   , -0.   ],\n",
       "       [ 0.667, -1.   ,  0.333]])"
      ]
     },
     "execution_count": 5,
     "metadata": {},
     "output_type": "execute_result"
    }
   ],
   "source": [
    "a = np.array([[1, -2, 2], \n",
    "              [1, -3, 2], \n",
    "              [1, -5, 5]])\n",
    "a_inv = linalg.inv(a)\n",
    "np.round(a_inv, 3)"
   ]
  },
  {
   "cell_type": "markdown",
   "metadata": {},
   "source": [
    "Matrix multiplied by its inverse (@ operator is used for matrix multiplication)  should return an identity matrix, lets check."
   ]
  },
  {
   "cell_type": "code",
   "execution_count": 6,
   "metadata": {},
   "outputs": [
    {
     "data": {
      "text/plain": [
       "array([[ 1.,  0.,  0.],\n",
       "       [ 0.,  1.,  0.],\n",
       "       [ 0.,  0.,  1.]])"
      ]
     },
     "execution_count": 6,
     "metadata": {},
     "output_type": "execute_result"
    }
   ],
   "source": [
    "np.round(a @ a_inv)"
   ]
  },
  {
   "cell_type": "markdown",
   "metadata": {},
   "source": [
    "### Matrix multiplication\n",
    "\n",
    "Lets describe raw material requirements for 4 products and 3 raw materials as a 4x3 matrix."
   ]
  },
  {
   "cell_type": "code",
   "execution_count": 7,
   "metadata": {
    "collapsed": true
   },
   "outputs": [],
   "source": [
    "a = np.array([[3, 7, 2],\n",
    "              [4, 1, 5],\n",
    "              [2, 8, 4],\n",
    "              [6, 9, 2]])"
   ]
  },
  {
   "cell_type": "markdown",
   "metadata": {},
   "source": [
    "Lets describe the unit prices and transport costs for all three raw materials as 3x2 matrix."
   ]
  },
  {
   "cell_type": "code",
   "execution_count": 8,
   "metadata": {
    "collapsed": true
   },
   "outputs": [],
   "source": [
    "c = np.array([[3, 8, 4],\n",
    "              [3, 2, 5]])\n"
   ]
  },
  {
   "cell_type": "markdown",
   "metadata": {},
   "source": [
    "Now we can find total raw material costs and transport costs for all four products using matrix multiplication (@ operator):"
   ]
  },
  {
   "cell_type": "code",
   "execution_count": 9,
   "metadata": {},
   "outputs": [
    {
     "data": {
      "text/plain": [
       "array([[73, 33],\n",
       "       [40, 39],\n",
       "       [86, 42],\n",
       "       [98, 46]])"
      ]
     },
     "execution_count": 9,
     "metadata": {},
     "output_type": "execute_result"
    }
   ],
   "source": [
    "a @ c.transpose()"
   ]
  },
  {
   "cell_type": "markdown",
   "metadata": {},
   "source": [
    "\n",
    "\n",
    "# Differential Calculus"
   ]
  },
  {
   "cell_type": "markdown",
   "metadata": {},
   "source": [
    "We can use Symbolic Python module (manipulation of symbolic equations) for differential calculus. See __[Sympy Calculus](http://docs.sympy.org/latest/tutorial/calculus.html)__ .\n",
    "\n",
    "\n",
    "Find the third derivative for the function $y = x^3 - \\frac{1}{x}$"
   ]
  },
  {
   "cell_type": "code",
   "execution_count": 10,
   "metadata": {},
   "outputs": [
    {
     "data": {
      "image/png": "[encoded data removed]",
      "text/latex": [
       "$$6 \\left(1 + \\frac{1}{x^{4}}\\right)$$"
      ],
      "text/plain": [
       "  ⎛    1 ⎞\n",
       "6⋅⎜1 + ──⎟\n",
       "  ⎜     4⎟\n",
       "  ⎝    x ⎠"
      ]
     },
     "execution_count": 10,
     "metadata": {},
     "output_type": "execute_result"
    }
   ],
   "source": [
    "x, y = sympy.symbols('x y')\n",
    "sympy.init_printing(use_latex=True)\n",
    "sympy.diff(x**3 - 1/x, x, 3)"
   ]
  },
  {
   "cell_type": "markdown",
   "metadata": {},
   "source": [
    "Let $A$ be the current value of investment, $i$ be yearly interest rate and $t$ the period in years from the present. Future value for the investment after time $t$ is calculated by the function $S(t) = Ae^{it}$. \n",
    "\n",
    "Calculate the function for rate of change in investments value - derivative $S'(t)$."
   ]
  },
  {
   "cell_type": "code",
   "execution_count": 11,
   "metadata": {},
   "outputs": [
    {
     "data": {
      "image/png": "[encoded data removed]",
      "text/latex": [
       "$$A i e^{i t}$$"
      ],
      "text/plain": [
       "     i⋅t\n",
       "A⋅i⋅ℯ   "
      ]
     },
     "execution_count": 11,
     "metadata": {},
     "output_type": "execute_result"
    }
   ],
   "source": [
    "A, i, t = sympy.symbols('A i t')\n",
    "sympy.diff(A*sympy.exp(i*t), t)"
   ]
  },
  {
   "cell_type": "markdown",
   "metadata": {},
   "source": [
    "We want to get fixed amount of rent $R$ from our initial investment  $A$ during $T$ years. From  $S = Ae^{it}$ we get $A = Se^{-it}$. The change in present value $A(t)$ is $A'(t)=Re^{-it}$. To find desired $A$ we should solve $A = \\int_{0}^{T} Re^{-it} dt$.     "
   ]
  },
  {
   "cell_type": "code",
   "execution_count": 12,
   "metadata": {},
   "outputs": [
    {
     "data": {
      "text/latex": [
       "$$\\begin{cases} R T & \\text{for}\\: i = 0 \\\\\\frac{R}{i} - \\frac{R}{i} e^{- T i} & \\text{otherwise} \\end{cases}$$"
      ],
      "text/plain": [
       "⎧    R⋅T      for i = 0\n",
       "⎪                      \n",
       "⎪       -T⋅i           \n",
       "⎨R   R⋅ℯ               \n",
       "⎪─ - ───────  otherwise\n",
       "⎪i      i              \n",
       "⎩                      "
      ]
     },
     "execution_count": 12,
     "metadata": {},
     "output_type": "execute_result"
    }
   ],
   "source": [
    "R, T = sympy.symbols('R T')\n",
    "result = sympy.integrate(R * sympy.exp(-i*t), (t, 0, T))\n",
    "result\n"
   ]
  },
  {
   "cell_type": "markdown",
   "metadata": {},
   "source": [
    "## Bonus Exercises\n",
    "\n",
    "Downloading __[Anaconda](https://www.anaconda.com/download/)__ or some other SciPy distribution (Python(xy), Canopy,...) and solving some mathematical problems with it gives bonus points. Problems must be original, that is no one in this course  has presented me with this problem/solution before, different number values do not count as different."
   ]
  }
 ],
 "metadata": {
  "kernelspec": {
   "display_name": "Python 3",
   "language": "python",
   "name": "python3"
  },
  "language_info": {
   "codemirror_mode": {
    "name": "ipython",
    "version": 3
   },
   "file_extension": ".py",
   "mimetype": "text/x-python",
   "name": "python",
   "nbconvert_exporter": "python",
   "pygments_lexer": "ipython3",
   "version": "3.6.1"
  }
 },
 "nbformat": 4,
 "nbformat_minor": 2
}
